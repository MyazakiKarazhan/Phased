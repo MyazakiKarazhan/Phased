{
 "cells": [
  {
   "cell_type": "code",
   "execution_count": null,
   "metadata": {
    "collapsed": false
   },
   "outputs": [],
   "source": [
    "#!/usr/bin/python\n",
    "# -*- coding: UTF-8 -*-\n",
    "import requests\n",
    "import sys\n",
    "import datetime\n",
    "import optparse\n",
    "import urllib2\n",
    "from BeautifulSoup import BeautifulSoup\n",
    "import textwrap\n",
    "import simplejson as json\n",
    "import csv\n",
    "from array import *\n",
    "api_key = KEY\n",
    "base_url = \"https://eu.api.battle.net/wow/\"\n",
    "guild_name = \"Phased\"\n",
    "guild_realm = \"Karazhan\"\n",
    "\n",
    "def query_api(url):\n",
    "    try:\n",
    "        s = requests.get(url).json()\n",
    "        pass\n",
    "    except Exception:\n",
    "        #raise e\n",
    "        pass\n",
    "    try:\n",
    "        if s[\"reason\"]:\n",
    "            print \"ERROR: \" + s[\"reason\"]\n",
    "            sys.stop()\n",
    "    except:\n",
    "        return s\n",
    "    \n",
    "def guild_members(guild_name, guild_realm, api_key, base_url):\n",
    "    req_url = base_url + \"guild/\" + guild_realm + \"/\" + guild_name + \"?fields=members&locale=en_GB&apikey=\" + api_key\n",
    "    guild_chars_name = []\n",
    "    guild_chars_level = []\n",
    "    guild_chars_realm = []\n",
    "    s = query_api(req_url)\n",
    "    for i in xrange(1,len(s[\"members\"])):\n",
    "        ind_names = i-1\n",
    "        guild_chars_name.append(s[\"members\"][ind_names][\"character\"][\"name\"])\n",
    "        guild_chars_level.append(s[\"members\"][ind_names][\"character\"][\"level\"])\n",
    "        guild_chars_realm.append(s[\"members\"][ind_names][\"character\"][\"realm\"])\n",
    "        \n",
    "    guild_chars_name, guild_chars_realm = remove_non_max(guild_chars_name, guild_chars_realm, guild_chars_level)\n",
    "    return guild_chars_name, guild_chars_realm\n",
    "\n",
    "def remove_non_max(guild_chars_name, guild_chars_realm, guild_chars_level):\n",
    "    while guild_chars_level.count(110) < len(guild_chars_level):\n",
    "        for i in xrange(0,len(guild_chars_level)):\n",
    "            if guild_chars_level[i] != 110:\n",
    "                del guild_chars_name[i]\n",
    "                del guild_chars_realm[i]\n",
    "                del guild_chars_level[i]\n",
    "                break\n",
    "                \n",
    "    remove_non_max(guild_chars_name, guild_chars_realm, guild_chars_level)\n",
    "    return guild_chars_name, guild_chars_realm"
   ]
  },
  {
   "cell_type": "code",
   "execution_count": null,
   "metadata": {
    "collapsed": true
   },
   "outputs": [],
   "source": []
  }
 ],
 "metadata": {
  "kernelspec": {
   "display_name": "Python [Root]",
   "language": "python",
   "name": "Python [Root]"
  },
  "language_info": {
   "codemirror_mode": {
    "name": "ipython",
    "version": 2
   },
   "file_extension": ".py",
   "mimetype": "text/x-python",
   "name": "python",
   "nbconvert_exporter": "python",
   "pygments_lexer": "ipython2",
   "version": "2.7.12"
  }
 },
 "nbformat": 4,
 "nbformat_minor": 0
}
